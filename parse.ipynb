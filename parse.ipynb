{
 "cells": [
  {
   "cell_type": "code",
   "execution_count": 110,
   "id": "8520885e",
   "metadata": {},
   "outputs": [],
   "source": [
    "import pandas as pd\n",
    "import vk_api\n",
    "import requests\n",
    "import re"
   ]
  },
  {
   "cell_type": "code",
   "execution_count": 111,
   "id": "b0a84c1c",
   "metadata": {},
   "outputs": [],
   "source": [
    "access_token=#секрет\n",
    "vk_session = vk_api.VkApi(token=access_token)\n",
    "vk = vk_session.get_api()"
   ]
  },
  {
   "cell_type": "code",
   "execution_count": 112,
   "id": "5a2f4554",
   "metadata": {},
   "outputs": [
    {
     "data": {
      "text/plain": [
       "{'count': 10,\n",
       " 'items': [{'id': 26, 'title': 'Белгород', 'country': 'Белгородская область'},\n",
       "  {'id': 3508,\n",
       "   'title': 'Белгород-Днестровский',\n",
       "   'area': 'Белгород-Днестровский район',\n",
       "   'region': 'Одесская область'},\n",
       "  {'id': 1012699,\n",
       "   'title': 'Белгород (поселок)',\n",
       "   'area': 'Навлинский район',\n",
       "   'region': 'Брянская область'},\n",
       "  {'id': 1009908,\n",
       "   'title': 'Белгород-22',\n",
       "   'area': 'Грайворонский район',\n",
       "   'region': 'Белгородская область'},\n",
       "  {'id': 5488173,\n",
       "   'title': 'Белгород-18',\n",
       "   'area': 'Корочанский район',\n",
       "   'region': 'Белгородская область'},\n",
       "  {'id': 1106020,\n",
       "   'title': 'Белгородский',\n",
       "   'area': 'Веневский район',\n",
       "   'region': 'Тульская область'},\n",
       "  {'id': 1042569,\n",
       "   'title': 'Белгородка',\n",
       "   'area': 'Горшеченский район',\n",
       "   'region': 'Курская область'},\n",
       "  {'id': 1700249,\n",
       "   'title': 'Белгородское',\n",
       "   'area': 'Сандыктауский район',\n",
       "   'region': 'Акмолинская область'},\n",
       "  {'id': 1127492,\n",
       "   'title': 'Белгородское',\n",
       "   'area': 'Смидовичский район',\n",
       "   'region': 'Еврейская автономная область'},\n",
       "  {'id': 1078413,\n",
       "   'title': 'Белгородцев',\n",
       "   'area': 'Каменский район',\n",
       "   'region': 'Ростовская область'}]}"
      ]
     },
     "execution_count": 112,
     "metadata": {},
     "output_type": "execute_result"
    }
   ],
   "source": [
    "# нахожу id города\n",
    "vk.database.getCities(q='белгород')"
   ]
  },
  {
   "cell_type": "code",
   "execution_count": 113,
   "id": "df0d70c5",
   "metadata": {},
   "outputs": [],
   "source": [
    "# получаю список пользователей из Белгорода\n",
    "json_users = vk.users.search(city=26, fields = 'sex,city,bdate', count=1000)['items']"
   ]
  },
  {
   "cell_type": "code",
   "execution_count": 115,
   "id": "1134a324",
   "metadata": {},
   "outputs": [],
   "source": [
    "# привожу в нужный формат city\n",
    "for string in json_users:\n",
    "    try:\n",
    "        string['city'] = string['city']['title']\n",
    "    except:\n",
    "        continue"
   ]
  },
  {
   "cell_type": "code",
   "execution_count": 116,
   "id": "78309609",
   "metadata": {},
   "outputs": [],
   "source": [
    "# функция для выбора года рождения\n",
    "def get_year(date):\n",
    "    year = re.findall('[0-9]{4}', date)\n",
    "    if len(year):\n",
    "        return year[0]\n",
    "    return '0'"
   ]
  },
  {
   "cell_type": "code",
   "execution_count": 117,
   "id": "0b1a0315",
   "metadata": {},
   "outputs": [],
   "source": [
    "# заменяю пропуски, выбираю нужные столбцы и меняю значения некоторых столбцов\n",
    "data = pd.DataFrame(json_users)[['first_name', 'last_name', 'city', 'sex', 'bdate']]\n",
    "data['city'] = data['city'].fillna('Белгород')\n",
    "data['bdate'] = data['bdate'].fillna('1')\n",
    "data['bdate'] = data['bdate'].apply(lambda x: get_year(x))\n",
    "data['sex'] = data['sex'].apply(lambda x: 'женщина' if x == 1 else 'мужчина')"
   ]
  },
  {
   "cell_type": "code",
   "execution_count": 118,
   "id": "39bb53b7",
   "metadata": {},
   "outputs": [
    {
     "data": {
      "text/html": [
       "<div>\n",
       "<style scoped>\n",
       "    .dataframe tbody tr th:only-of-type {\n",
       "        vertical-align: middle;\n",
       "    }\n",
       "\n",
       "    .dataframe tbody tr th {\n",
       "        vertical-align: top;\n",
       "    }\n",
       "\n",
       "    .dataframe thead th {\n",
       "        text-align: right;\n",
       "    }\n",
       "</style>\n",
       "<table border=\"1\" class=\"dataframe\">\n",
       "  <thead>\n",
       "    <tr style=\"text-align: right;\">\n",
       "      <th></th>\n",
       "      <th>first_name</th>\n",
       "      <th>last_name</th>\n",
       "      <th>city</th>\n",
       "      <th>sex</th>\n",
       "      <th>bdate</th>\n",
       "    </tr>\n",
       "  </thead>\n",
       "  <tbody>\n",
       "    <tr>\n",
       "      <th>0</th>\n",
       "      <td>Евгений</td>\n",
       "      <td>Романенко</td>\n",
       "      <td>Белгород</td>\n",
       "      <td>мужчина</td>\n",
       "      <td>1998</td>\n",
       "    </tr>\n",
       "    <tr>\n",
       "      <th>1</th>\n",
       "      <td>Данил</td>\n",
       "      <td>Золотарев</td>\n",
       "      <td>Белгород</td>\n",
       "      <td>мужчина</td>\n",
       "      <td>2002</td>\n",
       "    </tr>\n",
       "    <tr>\n",
       "      <th>2</th>\n",
       "      <td>Ivan</td>\n",
       "      <td>Popaz</td>\n",
       "      <td>Белгород</td>\n",
       "      <td>мужчина</td>\n",
       "      <td>2004</td>\n",
       "    </tr>\n",
       "    <tr>\n",
       "      <th>3</th>\n",
       "      <td>Давид</td>\n",
       "      <td>Хабиямбере</td>\n",
       "      <td>Белгород</td>\n",
       "      <td>мужчина</td>\n",
       "      <td>2000</td>\n",
       "    </tr>\n",
       "    <tr>\n",
       "      <th>4</th>\n",
       "      <td>Dmitry</td>\n",
       "      <td>Zhuravlev</td>\n",
       "      <td>Белгород</td>\n",
       "      <td>мужчина</td>\n",
       "      <td>2003</td>\n",
       "    </tr>\n",
       "    <tr>\n",
       "      <th>...</th>\n",
       "      <td>...</td>\n",
       "      <td>...</td>\n",
       "      <td>...</td>\n",
       "      <td>...</td>\n",
       "      <td>...</td>\n",
       "    </tr>\n",
       "    <tr>\n",
       "      <th>733</th>\n",
       "      <td>Виктор</td>\n",
       "      <td>Саулов</td>\n",
       "      <td>Белгород</td>\n",
       "      <td>мужчина</td>\n",
       "      <td>0</td>\n",
       "    </tr>\n",
       "    <tr>\n",
       "      <th>734</th>\n",
       "      <td>Юрий</td>\n",
       "      <td>Агарков</td>\n",
       "      <td>Белгород</td>\n",
       "      <td>мужчина</td>\n",
       "      <td>1949</td>\n",
       "    </tr>\n",
       "    <tr>\n",
       "      <th>735</th>\n",
       "      <td>Виталий</td>\n",
       "      <td>Данилин</td>\n",
       "      <td>Белгород</td>\n",
       "      <td>мужчина</td>\n",
       "      <td>1978</td>\n",
       "    </tr>\n",
       "    <tr>\n",
       "      <th>736</th>\n",
       "      <td>Ярослав</td>\n",
       "      <td>Воробьев</td>\n",
       "      <td>Белгород</td>\n",
       "      <td>мужчина</td>\n",
       "      <td>1985</td>\n",
       "    </tr>\n",
       "    <tr>\n",
       "      <th>737</th>\n",
       "      <td>Анна</td>\n",
       "      <td>Иванова</td>\n",
       "      <td>Белгород</td>\n",
       "      <td>женщина</td>\n",
       "      <td>1983</td>\n",
       "    </tr>\n",
       "  </tbody>\n",
       "</table>\n",
       "<p>738 rows × 5 columns</p>\n",
       "</div>"
      ],
      "text/plain": [
       "    first_name   last_name      city      sex bdate\n",
       "0      Евгений   Романенко  Белгород  мужчина  1998\n",
       "1        Данил   Золотарев  Белгород  мужчина  2002\n",
       "2         Ivan       Popaz  Белгород  мужчина  2004\n",
       "3        Давид  Хабиямбере  Белгород  мужчина  2000\n",
       "4       Dmitry   Zhuravlev  Белгород  мужчина  2003\n",
       "..         ...         ...       ...      ...   ...\n",
       "733     Виктор      Саулов  Белгород  мужчина     0\n",
       "734       Юрий     Агарков  Белгород  мужчина  1949\n",
       "735    Виталий     Данилин  Белгород  мужчина  1978\n",
       "736    Ярослав    Воробьев  Белгород  мужчина  1985\n",
       "737       Анна     Иванова  Белгород  женщина  1983\n",
       "\n",
       "[738 rows x 5 columns]"
      ]
     },
     "execution_count": 118,
     "metadata": {},
     "output_type": "execute_result"
    }
   ],
   "source": [
    "data"
   ]
  },
  {
   "cell_type": "code",
   "execution_count": 119,
   "id": "53b1cf10",
   "metadata": {
    "scrolled": true
   },
   "outputs": [],
   "source": [
    "# сохраняю датасет, где имеются пользователи с годом рождения\n",
    "data[data['bdate'] != '0'].to_csv('hw.csv')"
   ]
  }
 ],
 "metadata": {
  "kernelspec": {
   "display_name": "Python 3 (ipykernel)",
   "language": "python",
   "name": "python3"
  },
  "language_info": {
   "codemirror_mode": {
    "name": "ipython",
    "version": 3
   },
   "file_extension": ".py",
   "mimetype": "text/x-python",
   "name": "python",
   "nbconvert_exporter": "python",
   "pygments_lexer": "ipython3",
   "version": "3.11.5"
  }
 },
 "nbformat": 4,
 "nbformat_minor": 5
}
